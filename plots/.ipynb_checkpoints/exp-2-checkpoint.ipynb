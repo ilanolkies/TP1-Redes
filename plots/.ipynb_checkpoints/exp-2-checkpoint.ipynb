{
 "cells": [
  {
   "cell_type": "markdown",
   "metadata": {},
   "source": [
    "# Experimentacion 2"
   ]
  },
  {
   "cell_type": "code",
   "execution_count": 4,
   "metadata": {},
   "outputs": [
    {
     "ename": "ModuleNotFoundError",
     "evalue": "No module named 'pandas'",
     "output_type": "error",
     "traceback": [
      "\u001b[0;31m---------------------------------------------------------------------------\u001b[0m",
      "\u001b[0;31mModuleNotFoundError\u001b[0m                       Traceback (most recent call last)",
      "\u001b[0;32m<ipython-input-4-07d378cf0963>\u001b[0m in \u001b[0;36m<module>\u001b[0;34m\u001b[0m\n\u001b[1;32m      1\u001b[0m \u001b[0;32mimport\u001b[0m \u001b[0mnumpy\u001b[0m \u001b[0;32mas\u001b[0m \u001b[0mnp\u001b[0m\u001b[0;34m\u001b[0m\u001b[0;34m\u001b[0m\u001b[0m\n\u001b[0;32m----> 2\u001b[0;31m \u001b[0;32mimport\u001b[0m \u001b[0mpandas\u001b[0m \u001b[0;32mas\u001b[0m \u001b[0mpd\u001b[0m\u001b[0;34m\u001b[0m\u001b[0;34m\u001b[0m\u001b[0m\n\u001b[0m\u001b[1;32m      3\u001b[0m \u001b[0;32mimport\u001b[0m \u001b[0mseaborn\u001b[0m \u001b[0;32mas\u001b[0m \u001b[0msns\u001b[0m\u001b[0;34m\u001b[0m\u001b[0;34m\u001b[0m\u001b[0m\n\u001b[1;32m      4\u001b[0m \u001b[0;32mimport\u001b[0m \u001b[0mmatplotlib\u001b[0m \u001b[0;32mas\u001b[0m \u001b[0mplt\u001b[0m\u001b[0;34m\u001b[0m\u001b[0;34m\u001b[0m\u001b[0m\n",
      "\u001b[0;31mModuleNotFoundError\u001b[0m: No module named 'pandas'"
     ]
    }
   ],
   "source": [
    "import numpy as np\n",
    "import pandas as pd\n",
    "import seaborn as sns\n",
    "import matplotlib as plt"
   ]
  },
  {
   "cell_type": "code",
   "execution_count": 67,
   "metadata": {},
   "outputs": [],
   "source": [
    "def porcentajeDeProtocolos(path, x_axis, y_axis):\n",
    "    df = pd.read_csv(path)\n",
    "    df.drop(index = [0, 1] , inplace=True)\n",
    "    sns.set(style=\"whitegrid\")\n",
    "    chart = sns.barplot(x=x_axis,y=y_axis, data=df, palette='Spectral', fmt='d')\n",
    "    chart.set_xticklabels(chart.get_xticklabels(), rotation=90)\n",
    "\n",
    "def InformacionPorTipoFuente(path):\n",
    "    df = pd.read_csv(path)\n",
    "    \n",
    "    \n",
    "    dfb=df.filter(like='BROADCAST')\n",
    "    dfb=dfb.sum(axis = 1, skipna = True)\n",
    "    dfu=df.filter(like='UNICAST')\n",
    "    dfu=dfu.sum(axis = 1, skipna = True)\n",
    "    dft=df.iloc[:, 0]\n",
    "    df=pd.concat([dft, dfb, dfu], axis=1)\n",
    "    df.columns =['Time', 'BROADCAST', 'UNICAST']\n",
    "    \n",
    "    df = df.tail(1)\n",
    "    #df = df = df[[\"('UNICAST', 2048)\", \"('UNICAST', 34525)\", \"('BROADCAST', 2048)\", \"('UNICAST', 2054)\"]].div(10000)\n",
    "    df = df.stack().reset_index(-1).iloc[:, ::-1]\n",
    "    df.columns = ['informacion', 'simbolo']\n",
    "    sns.set(style=\"whitegrid\")\n",
    "    df = df.rename(columns={0: \"informacion\", \"simbolos\": \"simbolo\"})\n",
    "    df = df.iloc[1:]\n",
    "    chart = sns.barplot(x=\"simbolo\",y=\"informacion\", data=df, palette='Spectral')\n",
    "    chart.set(yscale=\"log\")\n",
    "    chart.set_xticklabels(chart.get_xticklabels(), rotation=90)\n",
    "    \n",
    "def InformacionPorSimbolo(path):\n",
    "    df = pd.read_csv(path)\n",
    "    df = df.tail(1)\n",
    "    #df = df = df[[\"('UNICAST', 2048)\", \"('UNICAST', 34525)\", \"('BROADCAST', 2048)\", \"('UNICAST', 2054)\"]].div(10000)\n",
    "    df = df.stack().reset_index(-1).iloc[:, ::-1]\n",
    "    df.columns = ['informacion', 'simbolo']\n",
    "    sns.set(style=\"whitegrid\")\n",
    "    df = df.rename(columns={0: \"informacion\", \"simbolos\": \"simbolo\"})\n",
    "    df = df.iloc[1:]\n",
    "    chart2 = sns.barplot(x=\"simbolo\",y=\"informacion\", data=df, palette='Spectral')\n",
    "    chart2.set(yscale=\"log\")\n",
    "    chart2.set_xticklabels(chart.get_xticklabels(), rotation=90)\n",
    "    \n",
    "\n",
    "    "
   ]
  },
  {
   "cell_type": "code",
   "execution_count": 68,
   "metadata": {},
   "outputs": [
    {
     "ename": "NameError",
     "evalue": "name 'chart' is not defined",
     "output_type": "error",
     "traceback": [
      "\u001b[0;31m---------------------------------------------------------------------------\u001b[0m",
      "\u001b[0;31mNameError\u001b[0m                                 Traceback (most recent call last)",
      "\u001b[0;32m<ipython-input-68-2c156ac367f5>\u001b[0m in \u001b[0;36m<module>\u001b[0;34m\u001b[0m\n\u001b[0;32m----> 1\u001b[0;31m \u001b[0mInformacionPorSimbolo\u001b[0m\u001b[0;34m(\u001b[0m\u001b[0;34m'../../capturas.csv'\u001b[0m\u001b[0;34m)\u001b[0m\u001b[0;34m\u001b[0m\u001b[0;34m\u001b[0m\u001b[0m\n\u001b[0m\u001b[1;32m      2\u001b[0m \u001b[0mInformacionPorTipoFuente\u001b[0m\u001b[0;34m(\u001b[0m\u001b[0;34m'../../capturas.csv'\u001b[0m\u001b[0;34m)\u001b[0m\u001b[0;34m\u001b[0m\u001b[0;34m\u001b[0m\u001b[0m\n",
      "\u001b[0;32m<ipython-input-67-1039fcb0f7b7>\u001b[0m in \u001b[0;36mInformacionPorSimbolo\u001b[0;34m(path)\u001b[0m\n\u001b[1;32m     40\u001b[0m     \u001b[0mchart2\u001b[0m \u001b[0;34m=\u001b[0m \u001b[0msns\u001b[0m\u001b[0;34m.\u001b[0m\u001b[0mbarplot\u001b[0m\u001b[0;34m(\u001b[0m\u001b[0mx\u001b[0m\u001b[0;34m=\u001b[0m\u001b[0;34m\"simbolo\"\u001b[0m\u001b[0;34m,\u001b[0m\u001b[0my\u001b[0m\u001b[0;34m=\u001b[0m\u001b[0;34m\"informacion\"\u001b[0m\u001b[0;34m,\u001b[0m \u001b[0mdata\u001b[0m\u001b[0;34m=\u001b[0m\u001b[0mdf\u001b[0m\u001b[0;34m,\u001b[0m \u001b[0mpalette\u001b[0m\u001b[0;34m=\u001b[0m\u001b[0;34m'Spectral'\u001b[0m\u001b[0;34m)\u001b[0m\u001b[0;34m\u001b[0m\u001b[0;34m\u001b[0m\u001b[0m\n\u001b[1;32m     41\u001b[0m     \u001b[0mchart2\u001b[0m\u001b[0;34m.\u001b[0m\u001b[0mset\u001b[0m\u001b[0;34m(\u001b[0m\u001b[0myscale\u001b[0m\u001b[0;34m=\u001b[0m\u001b[0;34m\"log\"\u001b[0m\u001b[0;34m)\u001b[0m\u001b[0;34m\u001b[0m\u001b[0;34m\u001b[0m\u001b[0m\n\u001b[0;32m---> 42\u001b[0;31m     \u001b[0mchart2\u001b[0m\u001b[0;34m.\u001b[0m\u001b[0mset_xticklabels\u001b[0m\u001b[0;34m(\u001b[0m\u001b[0mchart\u001b[0m\u001b[0;34m.\u001b[0m\u001b[0mget_xticklabels\u001b[0m\u001b[0;34m(\u001b[0m\u001b[0;34m)\u001b[0m\u001b[0;34m,\u001b[0m \u001b[0mrotation\u001b[0m\u001b[0;34m=\u001b[0m\u001b[0;36m90\u001b[0m\u001b[0;34m)\u001b[0m\u001b[0;34m\u001b[0m\u001b[0;34m\u001b[0m\u001b[0m\n\u001b[0m\u001b[1;32m     43\u001b[0m \u001b[0;34m\u001b[0m\u001b[0m\n\u001b[1;32m     44\u001b[0m \u001b[0;34m\u001b[0m\u001b[0m\n",
      "\u001b[0;31mNameError\u001b[0m: name 'chart' is not defined"
     ]
    },
    {
     "data": {
      "image/png": "[encoded data removed]",
      "text/plain": [
       "<Figure size 432x288 with 1 Axes>"
      ]
     },
     "metadata": {},
     "output_type": "display_data"
    }
   ],
   "source": [
    "InformacionPorSimbolo('../../capturas.csv')\n",
    "InformacionPorTipoFuente('../../capturas.csv')\n"
   ]
  },
  {
   "cell_type": "code",
   "execution_count": 24,
   "metadata": {},
   "outputs": [
    {
     "name": "stdout",
     "output_type": "stream",
     "text": [
      "False\n"
     ]
    }
   ],
   "source": [
    "print(\"HOLA\" in [\"HOLA asd\", \"aksldklsad\"])"
   ]
  },
  {
   "cell_type": "code",
   "execution_count": null,
   "metadata": {},
   "outputs": [],
   "source": []
  }
 ],
 "metadata": {
  "kernelspec": {
   "display_name": "Python 3",
   "language": "python",
   "name": "python3"
  },
  "language_info": {
   "codemirror_mode": {
    "name": "ipython",
    "version": 3
   },
   "file_extension": ".py",
   "mimetype": "text/x-python",
   "name": "python",
   "nbconvert_exporter": "python",
   "pygments_lexer": "ipython3",
   "version": "3.8.5"
  }
 },
 "nbformat": 4,
 "nbformat_minor": 4
}
