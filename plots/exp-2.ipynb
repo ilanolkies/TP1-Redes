{
 "cells": [
  {
   "cell_type": "markdown",
   "metadata": {},
   "source": [
    "# Experimentacion 2"
   ]
  },
  {
   "cell_type": "code",
   "execution_count": null,
   "metadata": {},
   "outputs": [],
   "source": []
  },
  {
   "cell_type": "code",
   "execution_count": null,
   "metadata": {},
   "outputs": [],
   "source": []
  },
  {
   "cell_type": "code",
   "execution_count": 1,
   "metadata": {},
   "outputs": [],
   "source": [
    "import numpy as np\n",
    "import pandas as pd\n",
    "import seaborn as sns\n",
    "import matplotlib as plt\n",
    "import math\n"
   ]
  },
  {
   "cell_type": "code",
   "execution_count": 4,
   "metadata": {},
   "outputs": [],
   "source": [
    "def porcentajeDeProtocolos(path, x_axis, y_axis):\n",
    "    df = pd.read_csv(path)\n",
    "    df.drop(index = [0, 1] , inplace=True)\n",
    "    sns.set(style=\"whitegrid\")\n",
    "    chart = sns.barplot(x=x_axis,y=y_axis, data=df, palette='Spectral', fmt='d')\n",
    "    chart.set_xticklabels(chart.get_xticklabels(), rotation=90)\n",
    "\n",
    "def DistribucionPorTipoFuente(path):\n",
    "    \n",
    "    # Leo los datos.\n",
    "    df = pd.read_csv(path)\n",
    "\n",
    "    # Integro los broadcast de distintos protocolos a 'BROADCAST' para que solo haya 1 columna.\n",
    "    dfb=df.filter(like='BROADCAST')\n",
    "    dfb=dfb.sum(axis = 1, skipna = True)\n",
    "    \n",
    "    # Integro los unicast de distintos protocolos a 'UNICAST' para que solo haya 1 columna.\n",
    "    dfu=df.filter(like='UNICAST')\n",
    "    dfu=dfu.sum(axis = 1, skipna = True)\n",
    "    \n",
    "    # Aplico los cambios\n",
    "    dft=df.iloc[:, 0]\n",
    "    df=pd.concat([dft, dfb, dfu], axis=1)\n",
    "    df.columns =['Time', 'BROADCAST', 'UNICAST']\n",
    "    df = df.tail(1)\n",
    "    df = df.stack().reset_index(-1).iloc[:, ::-1]\n",
    "    \n",
    "    # Les cambio los nombres a las columnas\n",
    "    df.columns = ['informacion', 'simbolo']\n",
    "    df = df.rename(columns={0: \"informacion\", \"simbolos\": \"simbolo\"})\n",
    "    df = df.iloc[1:]\n",
    "    \n",
    "    #Plot\n",
    "    sns.set(style=\"whitegrid\")\n",
    "    chart = sns.barplot(x=\"simbolo\",y=\"informacion\", data=df, palette='Spectral')\n",
    "    chart.set(yscale=\"linear\")\n",
    "    chart.set_xticklabels(chart.get_xticklabels(), rotation=90)\n",
    "    \n",
    "def InformacionPorSimbolo(path):\n",
    "    \n",
    "    #Leo y me quedo con la ultima fila que son los valores finales.\n",
    "    df = pd.read_csv(path)\n",
    "    df = df.tail(1)\n",
    "    df = df.stack().reset_index(-1).iloc[:, ::-1]\n",
    "    # Les cambio los nombres a las columnas \n",
    "    df.columns = ['informacion', 'simbolo']\n",
    "    df = df.rename(columns={0: \"informacion\", \"simbolos\": \"simbolo\"})\n",
    "    df = df.iloc[1:]\n",
    "    \n",
    "    #Calculo la informacion de los eventos\n",
    "    df['informacion'] = ((df['informacion'] / df['informacion'].sum()))\n",
    "    df['informacion'] = df['informacion'].astype(np.float64)\n",
    "    df['informacion'] = - np.log(df['informacion'])\n",
    "   \n",
    "    #Plot\n",
    "    sns.set(style=\"whitegrid\")\n",
    "    chart2 = sns.barplot(x=\"simbolo\",y=\"informacion\", data=df, palette='Spectral')\n",
    "    chart2.set(yscale=\"linear\")\n",
    "    chart2.set_xticklabels(chart2.get_xticklabels(), rotation=90)\n",
    "    \n",
    "\n",
    "    "
   ]
  },
  {
   "cell_type": "code",
   "execution_count": 6,
   "metadata": {
    "scrolled": true
   },
   "outputs": [
    {
     "data": {
      "image/png": "[encoded data removed]",
      "text/plain": [
       "<Figure size 432x288 with 1 Axes>"
      ]
     },
     "metadata": {},
     "output_type": "display_data"
    }
   ],
   "source": [
    "InformacionPorSimbolo('../capturas.csv')\n",
    "\n"
   ]
  },
  {
   "cell_type": "code",
   "execution_count": 8,
   "metadata": {},
   "outputs": [
    {
     "name": "stdout",
     "output_type": "stream",
     "text": [
      "False\n"
     ]
    }
   ],
   "source": [
    "print(\"HOLA\" in [\"HOLA asd\", \"aksldklsad\"])"
   ]
  },
  {
   "cell_type": "code",
   "execution_count": 70,
   "metadata": {},
   "outputs": [
    {
     "data": {
      "image/png": "[encoded data removed]",
      "text/plain": [
       "<Figure size 432x288 with 1 Axes>"
      ]
     },
     "metadata": {},
     "output_type": "display_data"
    }
   ],
   "source": [
    "DistribucionPorTipoFuente('../capturas.csv')"
   ]
  },
  {
   "cell_type": "code",
   "execution_count": 1,
   "metadata": {},
   "outputs": [
    {
     "ename": "PermissionError",
     "evalue": "[Errno 1] Operation not permitted",
     "output_type": "error",
     "traceback": [
      "\u001b[0;31m---------------------------------------------------------------------------\u001b[0m",
      "\u001b[0;31mPermissionError\u001b[0m                           Traceback (most recent call last)",
      "\u001b[0;32m<ipython-input-1-b22b2b8f92a3>\u001b[0m in \u001b[0;36m<module>\u001b[0;34m\u001b[0m\n\u001b[1;32m     35\u001b[0m \u001b[0;34m\u001b[0m\u001b[0m\n\u001b[1;32m     36\u001b[0m \u001b[0;34m\u001b[0m\u001b[0m\n\u001b[0;32m---> 37\u001b[0;31m \u001b[0msniff\u001b[0m\u001b[0;34m(\u001b[0m\u001b[0mprn\u001b[0m\u001b[0;34m=\u001b[0m\u001b[0mcallback\u001b[0m\u001b[0;34m,\u001b[0m \u001b[0mcount\u001b[0m\u001b[0;34m=\u001b[0m\u001b[0;36m100\u001b[0m\u001b[0;34m)\u001b[0m\u001b[0;34m\u001b[0m\u001b[0;34m\u001b[0m\u001b[0m\n\u001b[0m\u001b[1;32m     38\u001b[0m \u001b[0;34m\u001b[0m\u001b[0m\n\u001b[1;32m     39\u001b[0m \u001b[0mmostrar_fuente\u001b[0m\u001b[0;34m(\u001b[0m\u001b[0mS1\u001b[0m\u001b[0;34m)\u001b[0m\u001b[0;34m\u001b[0m\u001b[0;34m\u001b[0m\u001b[0m\n",
      "\u001b[0;32m~/.local/lib/python3.8/site-packages/scapy/sendrecv.py\u001b[0m in \u001b[0;36msniff\u001b[0;34m(*args, **kwargs)\u001b[0m\n\u001b[1;32m   1261\u001b[0m     \u001b[0;31m# type: (*Any, **Any) -> PacketList\u001b[0m\u001b[0;34m\u001b[0m\u001b[0;34m\u001b[0m\u001b[0;34m\u001b[0m\u001b[0m\n\u001b[1;32m   1262\u001b[0m     \u001b[0msniffer\u001b[0m \u001b[0;34m=\u001b[0m \u001b[0mAsyncSniffer\u001b[0m\u001b[0;34m(\u001b[0m\u001b[0;34m)\u001b[0m\u001b[0;34m\u001b[0m\u001b[0;34m\u001b[0m\u001b[0m\n\u001b[0;32m-> 1263\u001b[0;31m     \u001b[0msniffer\u001b[0m\u001b[0;34m.\u001b[0m\u001b[0m_run\u001b[0m\u001b[0;34m(\u001b[0m\u001b[0;34m*\u001b[0m\u001b[0margs\u001b[0m\u001b[0;34m,\u001b[0m \u001b[0;34m**\u001b[0m\u001b[0mkwargs\u001b[0m\u001b[0;34m)\u001b[0m\u001b[0;34m\u001b[0m\u001b[0;34m\u001b[0m\u001b[0m\n\u001b[0m\u001b[1;32m   1264\u001b[0m     \u001b[0;32mreturn\u001b[0m \u001b[0mcast\u001b[0m\u001b[0;34m(\u001b[0m\u001b[0mPacketList\u001b[0m\u001b[0;34m,\u001b[0m \u001b[0msniffer\u001b[0m\u001b[0;34m.\u001b[0m\u001b[0mresults\u001b[0m\u001b[0;34m)\u001b[0m\u001b[0;34m\u001b[0m\u001b[0;34m\u001b[0m\u001b[0m\n\u001b[1;32m   1265\u001b[0m \u001b[0;34m\u001b[0m\u001b[0m\n",
      "\u001b[0;32m~/.local/lib/python3.8/site-packages/scapy/sendrecv.py\u001b[0m in \u001b[0;36m_run\u001b[0;34m(self, count, store, offline, quiet, prn, lfilter, L2socket, timeout, opened_socket, stop_filter, iface, started_callback, session, session_kwargs, **karg)\u001b[0m\n\u001b[1;32m   1125\u001b[0m                 )\n\u001b[1;32m   1126\u001b[0m             \u001b[0;32melse\u001b[0m\u001b[0;34m:\u001b[0m\u001b[0;34m\u001b[0m\u001b[0;34m\u001b[0m\u001b[0m\n\u001b[0;32m-> 1127\u001b[0;31m                 sniff_sockets[L2socket(type=ETH_P_ALL, iface=iface,\n\u001b[0m\u001b[1;32m   1128\u001b[0m                                        **karg)] = iface\n\u001b[1;32m   1129\u001b[0m \u001b[0;34m\u001b[0m\u001b[0m\n",
      "\u001b[0;32m~/.local/lib/python3.8/site-packages/scapy/arch/linux.py\u001b[0m in \u001b[0;36m__init__\u001b[0;34m(self, iface, type, promisc, filter, nofilter, monitor)\u001b[0m\n\u001b[1;32m    484\u001b[0m                 \u001b[0;34m\"The 'monitor' argument has no effect on native linux sockets.\"\u001b[0m\u001b[0;34m\u001b[0m\u001b[0;34m\u001b[0m\u001b[0m\n\u001b[1;32m    485\u001b[0m             )\n\u001b[0;32m--> 486\u001b[0;31m         self.ins = socket.socket(\n\u001b[0m\u001b[1;32m    487\u001b[0m             socket.AF_PACKET, socket.SOCK_RAW, socket.htons(type))\n\u001b[1;32m    488\u001b[0m         \u001b[0mself\u001b[0m\u001b[0;34m.\u001b[0m\u001b[0mins\u001b[0m\u001b[0;34m.\u001b[0m\u001b[0msetsockopt\u001b[0m\u001b[0;34m(\u001b[0m\u001b[0msocket\u001b[0m\u001b[0;34m.\u001b[0m\u001b[0mSOL_SOCKET\u001b[0m\u001b[0;34m,\u001b[0m \u001b[0msocket\u001b[0m\u001b[0;34m.\u001b[0m\u001b[0mSO_RCVBUF\u001b[0m\u001b[0;34m,\u001b[0m \u001b[0;36m0\u001b[0m\u001b[0;34m)\u001b[0m\u001b[0;34m\u001b[0m\u001b[0;34m\u001b[0m\u001b[0m\n",
      "\u001b[0;32m/usr/lib/python3.8/socket.py\u001b[0m in \u001b[0;36m__init__\u001b[0;34m(self, family, type, proto, fileno)\u001b[0m\n\u001b[1;32m    229\u001b[0m             \u001b[0;32mif\u001b[0m \u001b[0mproto\u001b[0m \u001b[0;34m==\u001b[0m \u001b[0;34m-\u001b[0m\u001b[0;36m1\u001b[0m\u001b[0;34m:\u001b[0m\u001b[0;34m\u001b[0m\u001b[0;34m\u001b[0m\u001b[0m\n\u001b[1;32m    230\u001b[0m                 \u001b[0mproto\u001b[0m \u001b[0;34m=\u001b[0m \u001b[0;36m0\u001b[0m\u001b[0;34m\u001b[0m\u001b[0;34m\u001b[0m\u001b[0m\n\u001b[0;32m--> 231\u001b[0;31m         \u001b[0m_socket\u001b[0m\u001b[0;34m.\u001b[0m\u001b[0msocket\u001b[0m\u001b[0;34m.\u001b[0m\u001b[0m__init__\u001b[0m\u001b[0;34m(\u001b[0m\u001b[0mself\u001b[0m\u001b[0;34m,\u001b[0m \u001b[0mfamily\u001b[0m\u001b[0;34m,\u001b[0m \u001b[0mtype\u001b[0m\u001b[0;34m,\u001b[0m \u001b[0mproto\u001b[0m\u001b[0;34m,\u001b[0m \u001b[0mfileno\u001b[0m\u001b[0;34m)\u001b[0m\u001b[0;34m\u001b[0m\u001b[0;34m\u001b[0m\u001b[0m\n\u001b[0m\u001b[1;32m    232\u001b[0m         \u001b[0mself\u001b[0m\u001b[0;34m.\u001b[0m\u001b[0m_io_refs\u001b[0m \u001b[0;34m=\u001b[0m \u001b[0;36m0\u001b[0m\u001b[0;34m\u001b[0m\u001b[0;34m\u001b[0m\u001b[0m\n\u001b[1;32m    233\u001b[0m         \u001b[0mself\u001b[0m\u001b[0;34m.\u001b[0m\u001b[0m_closed\u001b[0m \u001b[0;34m=\u001b[0m \u001b[0;32mFalse\u001b[0m\u001b[0;34m\u001b[0m\u001b[0;34m\u001b[0m\u001b[0m\n",
      "\u001b[0;31mPermissionError\u001b[0m: [Errno 1] Operation not permitted"
     ]
    }
   ],
   "source": [
    "#!/usr/bin/env python3\n",
    "from scapy.all import *\n",
    "from scapy.layers.l2 import Ether\n",
    "import numpy as np\n",
    "import pandas as pd\n",
    "import os\n",
    "from datetime import datetime\n",
    "\n",
    "S1 = {}\n",
    "data = {}\n",
    "\n",
    "def mostrar_fuente(S):\n",
    "    N = sum(S.values())\n",
    "    simbolos = sorted(S.items(), key=lambda x: -x[1])\n",
    "    print(\"S: \")\n",
    "    print(\"\\n\".join([ \" %s : %.5f - I: %.5f\" % (d,k/N,- math.log(k/N,2)) for d,k in simbolos ]))\n",
    "    H = - math.fsum([(k/N * math.log(k/N,2)) for d,k in simbolos ])\n",
    "    print(\"H(S): %.5f\" %  H )\n",
    "\n",
    "def callback(pkt):\n",
    "    if pkt.haslayer(Ether):\n",
    "        dire = \"BROADCAST\" if pkt[Ether].dst==\"ff:ff:ff:ff:ff:ff\" else \"UNICAST\"\n",
    "        \n",
    "        #s_i = (dire, proto) # Aca se define el simbolo de la fuente\n",
    "        # s_i = dire \n",
    "\n",
    "        proto = pkt[Ether].type # El campo type del frame tiene el protocolo\n",
    "        s_i = dire + \" (\"+str(proto)+\")\"\n",
    "        if s_i not in S1:\n",
    "            S1[s_i] = 0.0\n",
    "\n",
    "        S1[s_i] += 1.0\n",
    "        S2 = S1.copy()\n",
    "        data[datetime.now()] = S2.values()\n",
    "\n",
    "\n",
    "sniff(prn=callback, count=100)\n",
    "\n",
    "mostrar_fuente(S1)\n",
    "\n",
    "df = pd.DataFrame.from_dict(data, orient='index', columns=S1.keys())\n",
    "df = df.fillna(0)\n",
    "df.to_csv(path='muestras\\capturas.csv')\n"
   ]
  }
 ],
 "metadata": {
  "kernelspec": {
   "display_name": "Python 3",
   "language": "python",
   "name": "python3"
  },
  "language_info": {
   "codemirror_mode": {
    "name": "ipython",
    "version": 3
   },
   "file_extension": ".py",
   "mimetype": "text/x-python",
   "name": "python",
   "nbconvert_exporter": "python",
   "pygments_lexer": "ipython3",
   "version": "3.8.5"
  }
 },
 "nbformat": 4,
 "nbformat_minor": 4
}
