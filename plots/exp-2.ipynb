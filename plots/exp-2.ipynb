{
 "cells": [
  {
   "cell_type": "markdown",
   "metadata": {},
   "source": [
    "# Experimentacion 2"
   ]
  },
  {
   "cell_type": "code",
   "execution_count": null,
   "metadata": {},
   "outputs": [],
   "source": []
  },
  {
   "cell_type": "code",
   "execution_count": null,
   "metadata": {},
   "outputs": [],
   "source": []
  },
  {
   "cell_type": "code",
   "execution_count": 1,
   "metadata": {},
   "outputs": [],
   "source": [
    "import numpy as np\n",
    "import pandas as pd\n",
    "import seaborn as sns\n",
    "import matplotlib as plt\n",
    "import math\n",
    "\n"
   ]
  },
  {
   "cell_type": "code",
   "execution_count": 2,
   "metadata": {},
   "outputs": [],
   "source": [
    "def porcentajeDeProtocolos(path, x_axis, y_axis):\n",
    "    df = pd.read_csv(path)\n",
    "    df.drop(index = [0, 1] , inplace=True)\n",
    "    sns.set(style=\"whitegrid\")\n",
    "    chart = sns.barplot(x=x_axis,y=y_axis, data=df, palette='Spectral', fmt='d')\n",
    "    chart.set_xticklabels(chart.get_xticklabels(), rotation=90)\n",
    "\n",
    "def DistribucionPorTipoFuente(path):\n",
    "    \n",
    "    # Leo los datos.\n",
    "    df = pd.read_csv(path)\n",
    "\n",
    "    # Integro los broadcast de distintos protocolos a 'BROADCAST' para que solo haya 1 columna.\n",
    "    dfb=df.filter(like='BROADCAST')\n",
    "    dfb=dfb.sum(axis = 1, skipna = True)\n",
    "    \n",
    "    # Integro los unicast de distintos protocolos a 'UNICAST' para que solo haya 1 columna.\n",
    "    dfu=df.filter(like='UNICAST')\n",
    "    dfu=dfu.sum(axis = 1, skipna = True)\n",
    "    \n",
    "    # Aplico los cambios\n",
    "    dft=df.iloc[:, 0]\n",
    "    df=pd.concat([dft, dfb, dfu], axis=1)\n",
    "    df.columns =['Time', 'BROADCAST', 'UNICAST']\n",
    "    df = df.tail(1)\n",
    "    df = df.stack().reset_index(-1).iloc[:, ::-1]\n",
    "    \n",
    "    # Les cambio los nombres a las columnas\n",
    "    df.columns = ['cantidad de apariciones', 'simbolo']\n",
    "    df = df.rename(columns={0: \"cantidad de apariciones\", \"simbolos\": \"simbolo\"})\n",
    "    df = df.iloc[1:]\n",
    "    print(df)\n",
    "    #Plot\n",
    "    sns.set(style=\"whitegrid\")\n",
    "    chart = sns.barplot(x=\"simbolo\",y=\"cantidad de apariciones\", data=df, palette='Spectral')\n",
    "    chart.set(yscale=\"linear\")\n",
    "    chart.set_xticklabels(chart.get_xticklabels(), rotation=90)\n",
    "    chart.figure.savefig('distribucionPorFuente.png',bbox_inches='tight')\n",
    "    \n",
    "def InformacionPorSimbolo(path):\n",
    "    \n",
    " \n",
    "\n",
    "    #Leo y me quedo con la ultima fila que son los valores finales.\n",
    "    df = pd.read_csv(path)\n",
    "    df = df.tail(1)\n",
    "    df = df.stack().reset_index(-1).iloc[:, ::-1]\n",
    "    # Les cambio los nombres a las columnas \n",
    "    df.columns = ['informacion', 'simbolo']\n",
    "    df = df.rename(columns={0: \"informacion\", \"simbolos\": \"simbolo\"})\n",
    "    df = df.iloc[1:]\n",
    "    \n",
    "    #Calculo la informacion de los eventos\n",
    "    \n",
    "    \n",
    "    df['informacion'] = ((df['informacion'] / df['informacion'].sum()))\n",
    "    df['informacion'] = df['informacion'].astype(np.float64)\n",
    "    df['proba']=df['informacion']\n",
    "    df['informacion'] = - np.log(df['informacion'])/ np.log(2) \n",
    "   \n",
    "    #Plot\n",
    "    sns.set(style=\"whitegrid\")\n",
    "    chart2 = sns.barplot(x=\"simbolo\",y=\"informacion\", data=df, palette='Spectral')\n",
    "    chart2.set(yscale=\"linear\")\n",
    "    chart2.set_xticklabels(chart2.get_xticklabels(), rotation=90)\n",
    "    chart2.figure.savefig('informacionporsimbolo.png',bbox_inches='tight')\n",
    "    \n",
    "    df['entropia']=df['proba']*df['informacion']\n",
    "    entropia=df['entropia'].sum()\n",
    "    print(entropia)\n",
    "    \n",
    "    \n",
    "    \n",
    "    \n",
    "    \n",
    "    \n",
    "    \n",
    "\n",
    "    "
   ]
  },
  {
   "cell_type": "code",
   "execution_count": 4,
   "metadata": {
    "scrolled": true
   },
   "outputs": [
    {
     "name": "stdout",
     "output_type": "stream",
     "text": [
      "0.611925526624844\n"
     ]
    },
    {
     "data": {
      "image/png": "[encoded data removed]",
      "text/plain": [
       "<Figure size 432x288 with 1 Axes>"
      ]
     },
     "metadata": {},
     "output_type": "display_data"
    }
   ],
   "source": [
    "InformacionPorSimbolo('../capturas.csv')\n",
    "\n",
    "\n"
   ]
  },
  {
   "cell_type": "code",
   "execution_count": 17,
   "metadata": {},
   "outputs": [
    {
     "name": "stdout",
     "output_type": "stream",
     "text": [
      "False\n"
     ]
    }
   ],
   "source": [
    "print(\"HOLA\" in [\"HOLA asd\", \"aksldklsad\"])"
   ]
  },
  {
   "cell_type": "code",
   "execution_count": 19,
   "metadata": {},
   "outputs": [
    {
     "name": "stdout",
     "output_type": "stream",
     "text": [
      "     cantidad de apariciones    simbolo\n",
      "5647                    2773  BROADCAST\n",
      "5647                    7227    UNICAST\n"
     ]
    },
    {
     "data": {
      "image/png": "[encoded data removed]",
      "text/plain": [
       "<Figure size 432x288 with 1 Axes>"
      ]
     },
     "metadata": {},
     "output_type": "display_data"
    }
   ],
   "source": [
    "DistribucionPorTipoFuente('../capturas_S4.csv')"
   ]
  },
  {
   "cell_type": "code",
   "execution_count": null,
   "metadata": {},
   "outputs": [],
   "source": []
  },
  {
   "cell_type": "code",
   "execution_count": null,
   "metadata": {},
   "outputs": [],
   "source": []
  }
 ],
 "metadata": {
  "kernelspec": {
   "display_name": "Python 3",
   "language": "python",
   "name": "python3"
  },
  "language_info": {
   "codemirror_mode": {
    "name": "ipython",
    "version": 3
   },
   "file_extension": ".py",
   "mimetype": "text/x-python",
   "name": "python",
   "nbconvert_exporter": "python",
   "pygments_lexer": "ipython3",
   "version": "3.8.5"
  }
 },
 "nbformat": 4,
 "nbformat_minor": 4
}
